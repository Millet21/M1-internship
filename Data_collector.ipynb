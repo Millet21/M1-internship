{
 "cells": [
  {
   "cell_type": "markdown",
   "metadata": {},
   "source": [
    "# Traveling Wave Detection with MC-SPEt algorithm "
   ]
  },
  {
   "cell_type": "markdown",
   "metadata": {},
   "source": [
    "## Required imports"
   ]
  },
  {
   "cell_type": "code",
   "execution_count": 1,
   "metadata": {},
   "outputs": [],
   "source": [
    "import h5py\n",
    "import numpy as np\n",
    "import pandas as pd\n",
    "from alphashape import alphashape\n",
    "from Detection_functions import MCA, circular_mask, preprocessing"
   ]
  },
  {
   "cell_type": "markdown",
   "metadata": {},
   "source": [
    "## Choose dataset and associated parameters for detection algorithm"
   ]
  },
  {
   "cell_type": "code",
   "execution_count": 4,
   "metadata": {},
   "outputs": [],
   "source": [
    "condition='awake' #between anesthesia and awake\n",
    "session='evoked' #between evokedU, evokedD and spontaneous"
   ]
  },
  {
   "cell_type": "code",
   "execution_count": 5,
   "metadata": {},
   "outputs": [],
   "source": [
    "eps=17\n",
    "MinPts=32\n",
    "theta=.40\n",
    "sign_level=1e-6"
   ]
  },
  {
   "cell_type": "markdown",
   "metadata": {},
   "source": [
    "## Data loading"
   ]
  },
  {
   "cell_type": "code",
   "execution_count": 6,
   "metadata": {},
   "outputs": [],
   "source": [
    "original_data_directory=r'/media/mathis/Data/Mathis/Original Data/'"
   ]
  },
  {
   "cell_type": "code",
   "execution_count": 7,
   "metadata": {},
   "outputs": [],
   "source": [
    "if condition=='awake':\n",
    "    fs = 100 #Hz\n",
    "    pixel_spacing = 0.0566 #mm\n",
    "    if session=='evoked':\n",
    "        bks_evoked_path = original_data_directory+'gaussian_pos4_ziggy_210908.npy'\n",
    "        Data = np.load(bks_evoked_path)\n",
    "    elif session=='spontaneous':\n",
    "        bks_blank_path = original_data_directory+'blank_ziggy_210908.npy'\n",
    "        Data = np.load(bks_blank_path)\n",
    "    mean = np.nanmean(Data)\n",
    "    nan_loc = np.isnan(Data)\n",
    "    Data[nan_loc] = mean\n",
    "    N_trials, Nt, Nx, Ny = Data.shape\n",
    "    mask = circular_mask((Nx,Ny), center=(220,190), radius=180) #160 should be more relevant\n",
    "\n",
    "if condition=='anesthesia':\n",
    "    fs=110 #Hz\n",
    "    pixel_spacing = 0.0575 #mm\n",
    "    if session=='evokedD':\n",
    "        anesth_evokedD_path = original_data_directory+'signal_240306_gaussianD.mat'\n",
    "        file_anesth_evokedD = h5py.File(anesth_evokedD_path)['signal']\n",
    "        Data = np.array(file_anesth_evokedD)\n",
    "    elif session=='evokedU':\n",
    "        anesth_evokedU_path = original_data_directory+'signal_240306_gaussianU.mat'\n",
    "        file_anesth_evokedU = h5py.File(anesth_evokedU_path)['signal']\n",
    "        Data = np.array(file_anesth_evokedU)\n",
    "    elif session=='spontaneous':\n",
    "        anesth_blank_path = original_data_directory+'signal_240306_blank.mat' #change it to adapt to your directories\n",
    "        file_anesth_blank = h5py.File(anesth_blank_path)['signal']\n",
    "        Data = np.array(file_anesth_blank)\n",
    "    N_trials, Nt, Nx, Ny = Data.shape\n",
    "    mask = circular_mask((Nx,Ny), center=(125,140), radius=130) #155 should be more relevant\n"
   ]
  },
  {
   "cell_type": "code",
   "execution_count": 8,
   "metadata": {},
   "outputs": [
    {
     "data": {
      "text/plain": [
       "10.187999999999999"
      ]
     },
     "execution_count": 8,
     "metadata": {},
     "output_type": "execute_result"
    }
   ],
   "source": [
    "180*pixel_spacing"
   ]
  },
  {
   "cell_type": "code",
   "execution_count": 10,
   "metadata": {},
   "outputs": [
    {
     "data": {
      "text/plain": [
       "323.29686807999997"
      ]
     },
     "execution_count": 10,
     "metadata": {},
     "output_type": "execute_result"
    }
   ],
   "source": [
    "np.sum(mask)*pixel_spacing**2"
   ]
  },
  {
   "cell_type": "markdown",
   "metadata": {},
   "source": [
    "## Run data-collecting algorithms"
   ]
  },
  {
   "cell_type": "code",
   "execution_count": 6,
   "metadata": {},
   "outputs": [
    {
     "name": "stdout",
     "output_type": "stream",
     "text": [
      "trial 0/20\n",
      "0 waves detected\n",
      "trial 1/20\n",
      "2 waves detected\n",
      "trial 2/20\n",
      "3 waves detected\n",
      "trial 3/20\n",
      "3 waves detected\n",
      "trial 4/20\n",
      "4 waves detected\n",
      "trial 5/20\n",
      "3 waves detected\n",
      "trial 6/20\n",
      "4 waves detected\n",
      "trial 7/20\n",
      "2 waves detected\n",
      "trial 8/20\n",
      "0 waves detected\n",
      "trial 9/20\n",
      "2 waves detected\n",
      "trial 10/20\n",
      "3 waves detected\n",
      "trial 11/20\n",
      "3 waves detected\n",
      "trial 12/20\n",
      "1 waves detected\n",
      "trial 13/20\n",
      "3 waves detected\n",
      "trial 14/20\n",
      "1 waves detected\n",
      "trial 15/20\n",
      "2 waves detected\n",
      "trial 16/20\n",
      "3 waves detected\n",
      "trial 17/20\n",
      "2 waves detected\n",
      "trial 18/20\n",
      "1 waves detected\n",
      "trial 19/20\n",
      "3 waves detected\n"
     ]
    }
   ],
   "source": [
    "Waves=[]\n",
    "for n in range(N_trials):\n",
    "    print(f'trial {n}/{N_trials}')\n",
    "    preprocessed_trial = preprocessing(trial=Data[n], border_mask=mask, fs=fs, fc=25, threshold=99)\n",
    "    moving_clusters = MCA(Trial=preprocessed_trial, epsilon=eps, min_pts=MinPts, Theta=theta, significance_level=sign_level)\n",
    "    for index, mc in enumerate(moving_clusters): #labelling of the waves\n",
    "        mc['wave label'] = (n,index) #(trial number, wave number)\n",
    "        Waves.append(mc)\n",
    "    print(f'{len(moving_clusters)} waves detected')"
   ]
  },
  {
   "cell_type": "code",
   "execution_count": 7,
   "metadata": {},
   "outputs": [
    {
     "data": {
      "text/plain": [
       "45"
      ]
     },
     "execution_count": 7,
     "metadata": {},
     "output_type": "execute_result"
    }
   ],
   "source": [
    "len(Waves)"
   ]
  },
  {
   "cell_type": "code",
   "execution_count": 8,
   "metadata": {},
   "outputs": [
    {
     "name": "stdout",
     "output_type": "stream",
     "text": [
      "((1, 0), [33, 34, 35, 36, 37, 38])\n",
      "((1, 1), [40, 41, 42, 43, 44, 45, 46, 47])\n",
      "((2, 0), [24, 25, 26, 27, 28])\n",
      "((2, 1), [29, 30, 31, 32, 33, 34])\n",
      "((2, 2), [91, 92, 93, 94, 95, 96, 97, 98, 99, 100, 101, 102, 103, 104, 105, 106, 107, 108, 109, 110, 111, 112, 113, 114])\n",
      "((3, 0), [2, 3, 4, 5, 6, 7, 8])\n",
      "((3, 1), [4, 5, 6, 7, 8, 9, 10, 11, 12, 13, 14, 15])\n",
      "((3, 2), [98, 99, 100, 101, 102, 103])\n",
      "((4, 0), [32, 33, 34, 35])\n",
      "((4, 1), [115, 116, 117, 118, 119])\n",
      "((4, 2), [132, 133, 134, 135])\n",
      "((4, 3), [138, 139, 140, 141, 142, 143, 144, 145, 146, 147, 148])\n",
      "((5, 0), [35, 36, 37, 38, 39])\n",
      "((5, 1), [55, 56, 57, 58, 59, 60, 61, 62, 63, 64, 65, 66, 67])\n",
      "((5, 2), [68, 69, 70, 71, 72, 73, 74, 75, 76, 77, 78, 79, 80, 81, 82, 83, 84, 85, 86, 87, 88])\n",
      "((6, 0), [37, 38, 39, 40, 41])\n",
      "((6, 1), [27, 28, 29, 30, 31, 32, 33, 34, 35, 36, 37, 38, 39, 40, 41, 42, 43])\n",
      "((6, 2), [138, 139, 140, 141, 142, 143])\n",
      "((6, 3), [145, 146, 147, 148])\n",
      "((7, 0), [1, 2, 3, 4, 5, 6, 7, 8, 9, 10])\n",
      "((7, 1), [6, 7, 8, 9, 10, 11, 12, 13])\n",
      "((9, 0), [108, 109, 110, 111, 112, 113, 114, 115, 116, 117, 118, 119, 120])\n",
      "((9, 1), [121, 122, 123, 124, 125, 126, 127, 128, 129, 130, 131, 132, 133, 134, 135, 136, 137, 138, 139, 140, 141, 142, 143, 144, 145, 146, 147])\n",
      "((10, 0), [7, 8, 9, 10, 11, 12, 13, 14, 15, 16, 17, 18, 19, 20, 21, 22, 23, 24, 25, 26, 27])\n",
      "((10, 1), [45, 46, 47, 48, 49, 50, 51, 52, 53, 54, 55])\n",
      "((10, 2), [64, 65, 66, 67, 68, 69, 70, 71, 72, 73, 74])\n",
      "((11, 0), [42, 43, 44, 45])\n",
      "((11, 1), [125, 126, 127, 128, 129])\n",
      "((11, 2), [128, 129, 130, 131, 132, 133, 134, 135, 136, 137, 138, 139, 140, 141, 142, 143, 144, 145, 146, 147, 148, 149])\n",
      "((12, 0), [8, 9, 10, 11, 12, 13, 14, 15, 16, 17, 18, 19, 20, 21, 22, 23, 24, 25, 26, 27, 28, 29])\n",
      "((13, 0), [3, 4, 5, 6, 7, 8, 9, 10, 11, 12])\n",
      "((13, 1), [16, 17, 18, 19, 20, 21, 22, 23, 24, 25, 26, 27, 28, 29, 30, 31, 32, 33, 34, 35, 36, 37, 38, 39, 40, 41])\n",
      "((13, 2), [53, 54, 55, 56, 57, 58, 59])\n",
      "((14, 0), [86, 87, 88, 89, 90, 91, 92, 93, 94, 95, 96, 97, 98, 99, 100, 101, 102, 103, 104, 105])\n",
      "((15, 0), [48, 49, 50, 51, 52, 53, 54, 55, 56, 57, 58, 59, 60, 61, 62, 63, 64, 65, 66, 67, 68, 69, 70, 71, 72, 73, 74, 75, 76, 77, 78, 79, 80, 81, 82, 83, 84])\n",
      "((15, 1), [92, 93, 94, 95, 96, 97, 98])\n",
      "((16, 0), [69, 70, 71, 72, 73, 74, 75, 76])\n",
      "((16, 1), [77, 78, 79, 80, 81, 82, 83, 84, 85, 86, 87, 88, 89, 90, 91, 92])\n",
      "((16, 2), [120, 121, 122, 123, 124])\n",
      "((17, 0), [0, 1, 2, 3, 4, 5, 6, 7, 8, 9, 10, 11, 12, 13, 14, 15, 16, 17, 18])\n",
      "((17, 1), [54, 55, 56, 57])\n",
      "((18, 0), [140, 141, 142, 143, 144, 145, 146, 147, 148, 149])\n",
      "((19, 0), [1, 2, 3, 4, 5, 6, 7, 8, 9, 10, 11, 12, 13, 14, 15, 16, 17, 18, 19, 20, 21, 22, 23, 24, 25, 26, 27])\n",
      "((19, 1), [32, 33, 34, 35, 36, 37, 38, 39, 40])\n",
      "((19, 2), [41, 42, 43, 44])\n"
     ]
    }
   ],
   "source": [
    "for wave in Waves:\n",
    "    print((wave['wave label'],wave['trace']))"
   ]
  },
  {
   "cell_type": "markdown",
   "metadata": {},
   "source": [
    "## Features selection and data frame Construction"
   ]
  },
  {
   "cell_type": "code",
   "execution_count": 9,
   "metadata": {},
   "outputs": [],
   "source": [
    "Df=[]\n",
    "lab = []\n",
    "for ind,wave in enumerate(Waves):\n",
    "    n=len(wave['trace'])\n",
    "    center,surface = [],[]\n",
    "    for i in range(n):\n",
    "        M = np.mean(wave['points'][i],axis=0 )\n",
    "        center.append(M)\n",
    "        polyg=alphashape(wave['points'][i], .1)\n",
    "        surface.append(polyg.area)\n",
    "    Centre=np.array(center)\n",
    "    Dist = np.linalg.norm(np.diff(Centre,axis=0), axis=1)\n",
    "    Instant_speed = np.append(Dist*fs*pixel_spacing/1000, np.nan)\n",
    "    vx,vy=wave['Speed']*fs*pixel_spacing/1000\n",
    "    Velocity_coordinates = np.append([vx, vy, np.linalg.norm([vx,vy]), np.arctan2(vy,vx)],np.full(n-4,np.nan)) #vx,vy,r,theta+nan to fill\n",
    "    \n",
    "    data = {'Wave #':np.full(n,ind),'Trial #':np.full(n,wave['wave label'][0]),'index':range(n),\n",
    "            'Frames': wave['trace'],'Time (ms)': np.array(wave['trace'])/fs*1000,'x_center':Centre[:,0], 'y_center':Centre[:,1], \n",
    "            'Center speed (m/s)': Instant_speed, 'Velocity': Velocity_coordinates,'Span (mm2)': np.array(surface)*pixel_spacing**2}\n",
    "    df = pd.DataFrame(data)\n",
    "    Df.append(df)\n",
    "Final_df = pd.concat(Df, axis=0, ignore_index=True)"
   ]
  },
  {
   "cell_type": "code",
   "execution_count": 10,
   "metadata": {},
   "outputs": [
    {
     "data": {
      "text/html": [
       "<div>\n",
       "<style scoped>\n",
       "    .dataframe tbody tr th:only-of-type {\n",
       "        vertical-align: middle;\n",
       "    }\n",
       "\n",
       "    .dataframe tbody tr th {\n",
       "        vertical-align: top;\n",
       "    }\n",
       "\n",
       "    .dataframe thead th {\n",
       "        text-align: right;\n",
       "    }\n",
       "</style>\n",
       "<table border=\"1\" class=\"dataframe\">\n",
       "  <thead>\n",
       "    <tr style=\"text-align: right;\">\n",
       "      <th></th>\n",
       "      <th>Wave #</th>\n",
       "      <th>Trial #</th>\n",
       "      <th>index</th>\n",
       "      <th>Frames</th>\n",
       "      <th>Time (ms)</th>\n",
       "      <th>x_center</th>\n",
       "      <th>y_center</th>\n",
       "      <th>Center speed (m/s)</th>\n",
       "      <th>Velocity</th>\n",
       "      <th>Span (mm2)</th>\n",
       "    </tr>\n",
       "  </thead>\n",
       "  <tbody>\n",
       "    <tr>\n",
       "      <th>0</th>\n",
       "      <td>0</td>\n",
       "      <td>1</td>\n",
       "      <td>0</td>\n",
       "      <td>33</td>\n",
       "      <td>300.000000</td>\n",
       "      <td>221.539604</td>\n",
       "      <td>114.064356</td>\n",
       "      <td>0.112910</td>\n",
       "      <td>-0.011684</td>\n",
       "      <td>14.992191</td>\n",
       "    </tr>\n",
       "    <tr>\n",
       "      <th>1</th>\n",
       "      <td>0</td>\n",
       "      <td>1</td>\n",
       "      <td>1</td>\n",
       "      <td>34</td>\n",
       "      <td>309.090909</td>\n",
       "      <td>215.054441</td>\n",
       "      <td>97.432665</td>\n",
       "      <td>0.141367</td>\n",
       "      <td>0.042462</td>\n",
       "      <td>27.729519</td>\n",
       "    </tr>\n",
       "    <tr>\n",
       "      <th>2</th>\n",
       "      <td>0</td>\n",
       "      <td>1</td>\n",
       "      <td>2</td>\n",
       "      <td>35</td>\n",
       "      <td>318.181818</td>\n",
       "      <td>206.187234</td>\n",
       "      <td>117.948936</td>\n",
       "      <td>0.147338</td>\n",
       "      <td>0.044040</td>\n",
       "      <td>19.391156</td>\n",
       "    </tr>\n",
       "    <tr>\n",
       "      <th>3</th>\n",
       "      <td>0</td>\n",
       "      <td>1</td>\n",
       "      <td>3</td>\n",
       "      <td>36</td>\n",
       "      <td>327.272727</td>\n",
       "      <td>208.756757</td>\n",
       "      <td>141.101351</td>\n",
       "      <td>0.102112</td>\n",
       "      <td>1.839305</td>\n",
       "      <td>11.869438</td>\n",
       "    </tr>\n",
       "    <tr>\n",
       "      <th>4</th>\n",
       "      <td>0</td>\n",
       "      <td>1</td>\n",
       "      <td>4</td>\n",
       "      <td>37</td>\n",
       "      <td>336.363636</td>\n",
       "      <td>209.769231</td>\n",
       "      <td>124.989011</td>\n",
       "      <td>0.052197</td>\n",
       "      <td>NaN</td>\n",
       "      <td>7.420878</td>\n",
       "    </tr>\n",
       "    <tr>\n",
       "      <th>5</th>\n",
       "      <td>0</td>\n",
       "      <td>1</td>\n",
       "      <td>5</td>\n",
       "      <td>38</td>\n",
       "      <td>345.454545</td>\n",
       "      <td>214.932039</td>\n",
       "      <td>131.427184</td>\n",
       "      <td>NaN</td>\n",
       "      <td>NaN</td>\n",
       "      <td>7.969716</td>\n",
       "    </tr>\n",
       "    <tr>\n",
       "      <th>6</th>\n",
       "      <td>1</td>\n",
       "      <td>1</td>\n",
       "      <td>0</td>\n",
       "      <td>40</td>\n",
       "      <td>363.636364</td>\n",
       "      <td>213.662602</td>\n",
       "      <td>136.479675</td>\n",
       "      <td>0.120634</td>\n",
       "      <td>-0.000142</td>\n",
       "      <td>20.173084</td>\n",
       "    </tr>\n",
       "    <tr>\n",
       "      <th>7</th>\n",
       "      <td>1</td>\n",
       "      <td>1</td>\n",
       "      <td>1</td>\n",
       "      <td>41</td>\n",
       "      <td>372.727273</td>\n",
       "      <td>213.114815</td>\n",
       "      <td>155.544444</td>\n",
       "      <td>0.022880</td>\n",
       "      <td>-0.016924</td>\n",
       "      <td>21.117019</td>\n",
       "    </tr>\n",
       "    <tr>\n",
       "      <th>8</th>\n",
       "      <td>1</td>\n",
       "      <td>1</td>\n",
       "      <td>2</td>\n",
       "      <td>42</td>\n",
       "      <td>381.818182</td>\n",
       "      <td>210.750988</td>\n",
       "      <td>152.806324</td>\n",
       "      <td>0.159244</td>\n",
       "      <td>0.016925</td>\n",
       "      <td>19.035734</td>\n",
       "    </tr>\n",
       "    <tr>\n",
       "      <th>9</th>\n",
       "      <td>1</td>\n",
       "      <td>1</td>\n",
       "      <td>3</td>\n",
       "      <td>43</td>\n",
       "      <td>390.909091</td>\n",
       "      <td>210.786802</td>\n",
       "      <td>127.629442</td>\n",
       "      <td>0.166476</td>\n",
       "      <td>-1.579159</td>\n",
       "      <td>16.179134</td>\n",
       "    </tr>\n",
       "    <tr>\n",
       "      <th>10</th>\n",
       "      <td>1</td>\n",
       "      <td>1</td>\n",
       "      <td>4</td>\n",
       "      <td>44</td>\n",
       "      <td>400.000000</td>\n",
       "      <td>208.177057</td>\n",
       "      <td>101.438903</td>\n",
       "      <td>0.023549</td>\n",
       "      <td>NaN</td>\n",
       "      <td>31.508563</td>\n",
       "    </tr>\n",
       "    <tr>\n",
       "      <th>11</th>\n",
       "      <td>1</td>\n",
       "      <td>1</td>\n",
       "      <td>5</td>\n",
       "      <td>45</td>\n",
       "      <td>409.090909</td>\n",
       "      <td>210.567164</td>\n",
       "      <td>104.293532</td>\n",
       "      <td>0.245529</td>\n",
       "      <td>NaN</td>\n",
       "      <td>31.617669</td>\n",
       "    </tr>\n",
       "    <tr>\n",
       "      <th>12</th>\n",
       "      <td>1</td>\n",
       "      <td>1</td>\n",
       "      <td>6</td>\n",
       "      <td>46</td>\n",
       "      <td>418.181818</td>\n",
       "      <td>214.202454</td>\n",
       "      <td>142.941718</td>\n",
       "      <td>0.008209</td>\n",
       "      <td>NaN</td>\n",
       "      <td>26.405366</td>\n",
       "    </tr>\n",
       "    <tr>\n",
       "      <th>13</th>\n",
       "      <td>1</td>\n",
       "      <td>1</td>\n",
       "      <td>7</td>\n",
       "      <td>47</td>\n",
       "      <td>427.272727</td>\n",
       "      <td>213.155738</td>\n",
       "      <td>143.709016</td>\n",
       "      <td>NaN</td>\n",
       "      <td>NaN</td>\n",
       "      <td>20.164819</td>\n",
       "    </tr>\n",
       "    <tr>\n",
       "      <th>14</th>\n",
       "      <td>2</td>\n",
       "      <td>2</td>\n",
       "      <td>0</td>\n",
       "      <td>24</td>\n",
       "      <td>218.181818</td>\n",
       "      <td>140.019231</td>\n",
       "      <td>137.870192</td>\n",
       "      <td>0.139171</td>\n",
       "      <td>-0.016344</td>\n",
       "      <td>17.850444</td>\n",
       "    </tr>\n",
       "  </tbody>\n",
       "</table>\n",
       "</div>"
      ],
      "text/plain": [
       "    Wave #  Trial #  index  Frames   Time (ms)    x_center    y_center  \\\n",
       "0        0        1      0      33  300.000000  221.539604  114.064356   \n",
       "1        0        1      1      34  309.090909  215.054441   97.432665   \n",
       "2        0        1      2      35  318.181818  206.187234  117.948936   \n",
       "3        0        1      3      36  327.272727  208.756757  141.101351   \n",
       "4        0        1      4      37  336.363636  209.769231  124.989011   \n",
       "5        0        1      5      38  345.454545  214.932039  131.427184   \n",
       "6        1        1      0      40  363.636364  213.662602  136.479675   \n",
       "7        1        1      1      41  372.727273  213.114815  155.544444   \n",
       "8        1        1      2      42  381.818182  210.750988  152.806324   \n",
       "9        1        1      3      43  390.909091  210.786802  127.629442   \n",
       "10       1        1      4      44  400.000000  208.177057  101.438903   \n",
       "11       1        1      5      45  409.090909  210.567164  104.293532   \n",
       "12       1        1      6      46  418.181818  214.202454  142.941718   \n",
       "13       1        1      7      47  427.272727  213.155738  143.709016   \n",
       "14       2        2      0      24  218.181818  140.019231  137.870192   \n",
       "\n",
       "    Center speed (m/s)  Velocity  Span (mm2)  \n",
       "0             0.112910 -0.011684   14.992191  \n",
       "1             0.141367  0.042462   27.729519  \n",
       "2             0.147338  0.044040   19.391156  \n",
       "3             0.102112  1.839305   11.869438  \n",
       "4             0.052197       NaN    7.420878  \n",
       "5                  NaN       NaN    7.969716  \n",
       "6             0.120634 -0.000142   20.173084  \n",
       "7             0.022880 -0.016924   21.117019  \n",
       "8             0.159244  0.016925   19.035734  \n",
       "9             0.166476 -1.579159   16.179134  \n",
       "10            0.023549       NaN   31.508563  \n",
       "11            0.245529       NaN   31.617669  \n",
       "12            0.008209       NaN   26.405366  \n",
       "13                 NaN       NaN   20.164819  \n",
       "14            0.139171 -0.016344   17.850444  "
      ]
     },
     "execution_count": 10,
     "metadata": {},
     "output_type": "execute_result"
    }
   ],
   "source": [
    "Final_df.head(15)"
   ]
  },
  {
   "cell_type": "markdown",
   "metadata": {},
   "source": [
    "## Data Frame saving"
   ]
  },
  {
   "cell_type": "code",
   "execution_count": 11,
   "metadata": {},
   "outputs": [
    {
     "name": "stdout",
     "output_type": "stream",
     "text": [
      "Anesthesia_evokedD_bks.xlsx\n"
     ]
    }
   ],
   "source": [
    "filename=f'{condition.capitalize()}_{session}_bks.xlsx'\n",
    "print(filename)"
   ]
  },
  {
   "cell_type": "code",
   "execution_count": 12,
   "metadata": {},
   "outputs": [],
   "source": [
    "Final_df.to_excel(filename)"
   ]
  }
 ],
 "metadata": {
  "kernelspec": {
   "display_name": "sklearn-env",
   "language": "python",
   "name": "python3"
  },
  "language_info": {
   "codemirror_mode": {
    "name": "ipython",
    "version": 3
   },
   "file_extension": ".py",
   "mimetype": "text/x-python",
   "name": "python",
   "nbconvert_exporter": "python",
   "pygments_lexer": "ipython3",
   "version": "3.12.3"
  }
 },
 "nbformat": 4,
 "nbformat_minor": 2
}
